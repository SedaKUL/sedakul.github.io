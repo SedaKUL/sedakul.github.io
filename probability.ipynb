{
  "nbformat": 4,
  "nbformat_minor": 0,
  "metadata": {
    "colab": {
      "name": "probability.ipynb",
      "version": "0.3.2",
      "provenance": [],
      "collapsed_sections": [],
      "include_colab_link": true
    },
    "kernelspec": {
      "name": "python3",
      "display_name": "Python 3"
    },
    "accelerator": "GPU"
  },
  "cells": [
    {
      "cell_type": "markdown",
      "metadata": {
        "id": "view-in-github",
        "colab_type": "text"
      },
      "source": [
        "<a href=\"https://colab.research.google.com/github/SedaKUL/sedakul.github.io/blob/master/probability.ipynb\" target=\"_parent\"><img src=\"https://colab.research.google.com/assets/colab-badge.svg\" alt=\"Open In Colab\"/></a>"
      ]
    },
    {
      "cell_type": "code",
      "metadata": {
        "id": "QTieS7IFNmFN",
        "colab_type": "code",
        "outputId": "9e7fc894-6ec0-402d-9904-8a4b7f9e8a81",
        "colab": {
          "base_uri": "https://localhost:8080/",
          "height": 34
        }
      },
      "source": [
        "import tensorflow as tf \n",
        "tf.test.gpu_device_name() "
      ],
      "execution_count": 0,
      "outputs": [
        {
          "output_type": "execute_result",
          "data": {
            "text/plain": [
              "''"
            ]
          },
          "metadata": {
            "tags": []
          },
          "execution_count": 1
        }
      ]
    },
    {
      "cell_type": "code",
      "metadata": {
        "id": "p1PaLyMePd1u",
        "colab_type": "code",
        "outputId": "d7a92fe5-2496-4840-d1e4-a2d658468b8c",
        "colab": {
          "base_uri": "https://localhost:8080/",
          "height": 315
        }
      },
      "source": [
        "pip install tensorflow==1.6"
      ],
      "execution_count": 0,
      "outputs": [
        {
          "output_type": "stream",
          "text": [
            "Requirement already satisfied: tensorflow==1.6 in /usr/local/lib/python3.6/dist-packages (1.6.0)\n",
            "Requirement already satisfied: astor>=0.6.0 in /usr/local/lib/python3.6/dist-packages (from tensorflow==1.6) (0.8.0)\n",
            "Requirement already satisfied: numpy>=1.13.3 in /usr/local/lib/python3.6/dist-packages (from tensorflow==1.6) (1.16.4)\n",
            "Requirement already satisfied: termcolor>=1.1.0 in /usr/local/lib/python3.6/dist-packages (from tensorflow==1.6) (1.1.0)\n",
            "Requirement already satisfied: wheel>=0.26 in /usr/local/lib/python3.6/dist-packages (from tensorflow==1.6) (0.33.4)\n",
            "Requirement already satisfied: grpcio>=1.8.6 in /usr/local/lib/python3.6/dist-packages (from tensorflow==1.6) (1.15.0)\n",
            "Requirement already satisfied: protobuf>=3.4.0 in /usr/local/lib/python3.6/dist-packages (from tensorflow==1.6) (3.7.1)\n",
            "Requirement already satisfied: gast>=0.2.0 in /usr/local/lib/python3.6/dist-packages (from tensorflow==1.6) (0.2.2)\n",
            "Requirement already satisfied: tensorboard<1.7.0,>=1.6.0 in /usr/local/lib/python3.6/dist-packages (from tensorflow==1.6) (1.6.0)\n",
            "Requirement already satisfied: absl-py>=0.1.6 in /usr/local/lib/python3.6/dist-packages (from tensorflow==1.6) (0.7.1)\n",
            "Requirement already satisfied: six>=1.10.0 in /usr/local/lib/python3.6/dist-packages (from tensorflow==1.6) (1.12.0)\n",
            "Requirement already satisfied: setuptools in /usr/local/lib/python3.6/dist-packages (from protobuf>=3.4.0->tensorflow==1.6) (41.0.1)\n",
            "Requirement already satisfied: bleach==1.5.0 in /usr/local/lib/python3.6/dist-packages (from tensorboard<1.7.0,>=1.6.0->tensorflow==1.6) (1.5.0)\n",
            "Requirement already satisfied: markdown>=2.6.8 in /usr/local/lib/python3.6/dist-packages (from tensorboard<1.7.0,>=1.6.0->tensorflow==1.6) (3.1.1)\n",
            "Requirement already satisfied: werkzeug>=0.11.10 in /usr/local/lib/python3.6/dist-packages (from tensorboard<1.7.0,>=1.6.0->tensorflow==1.6) (0.15.5)\n",
            "Requirement already satisfied: html5lib==0.9999999 in /usr/local/lib/python3.6/dist-packages (from tensorboard<1.7.0,>=1.6.0->tensorflow==1.6) (0.9999999)\n"
          ],
          "name": "stdout"
        }
      ]
    },
    {
      "cell_type": "code",
      "metadata": {
        "id": "9TZmW0RgPk4t",
        "colab_type": "code",
        "outputId": "8596401e-c4a3-462f-ac12-9f5a070e0d70",
        "colab": {
          "base_uri": "https://localhost:8080/",
          "height": 34
        }
      },
      "source": [
        "tf.__version__"
      ],
      "execution_count": 0,
      "outputs": [
        {
          "output_type": "execute_result",
          "data": {
            "text/plain": [
              "'1.6.0'"
            ]
          },
          "metadata": {
            "tags": []
          },
          "execution_count": 3
        }
      ]
    },
    {
      "cell_type": "code",
      "metadata": {
        "id": "cE5ZMvBwOd8w",
        "colab_type": "code",
        "outputId": "acb26a71-5dbe-433f-e9ff-d069473c9290",
        "colab": {
          "base_uri": "https://localhost:8080/",
          "height": 34
        }
      },
      "source": [
        "pip install tqdm"
      ],
      "execution_count": 0,
      "outputs": [
        {
          "output_type": "stream",
          "text": [
            "Requirement already satisfied: tqdm in /usr/local/lib/python3.6/dist-packages (4.28.1)\n"
          ],
          "name": "stdout"
        }
      ]
    },
    {
      "cell_type": "code",
      "metadata": {
        "id": "vWaVkUv8PSor",
        "colab_type": "code",
        "outputId": "cff51d61-1644-4a29-ba70-407dbc8cf872",
        "colab": {
          "base_uri": "https://localhost:8080/",
          "height": 104
        }
      },
      "source": [
        "pip install sklearn"
      ],
      "execution_count": 0,
      "outputs": [
        {
          "output_type": "stream",
          "text": [
            "Requirement already satisfied: sklearn in /usr/local/lib/python3.6/dist-packages (0.0)\n",
            "Requirement already satisfied: scikit-learn in /usr/local/lib/python3.6/dist-packages (from sklearn) (0.21.3)\n",
            "Requirement already satisfied: scipy>=0.17.0 in /usr/local/lib/python3.6/dist-packages (from scikit-learn->sklearn) (1.3.0)\n",
            "Requirement already satisfied: numpy>=1.11.0 in /usr/local/lib/python3.6/dist-packages (from scikit-learn->sklearn) (1.16.4)\n",
            "Requirement already satisfied: joblib>=0.11 in /usr/local/lib/python3.6/dist-packages (from scikit-learn->sklearn) (0.13.2)\n"
          ],
          "name": "stdout"
        }
      ]
    },
    {
      "cell_type": "code",
      "metadata": {
        "id": "2cU4c3K7PUdP",
        "colab_type": "code",
        "outputId": "4d3db1f5-bb63-4c74-8a60-6574e2b74ebb",
        "colab": {
          "base_uri": "https://localhost:8080/",
          "height": 124
        }
      },
      "source": [
        "pip install pandas "
      ],
      "execution_count": 0,
      "outputs": [
        {
          "output_type": "stream",
          "text": [
            "Requirement already satisfied: pandas in /usr/local/lib/python3.6/dist-packages (0.24.2)\n",
            "Requirement already satisfied: pytz>=2011k in /usr/local/lib/python3.6/dist-packages (from pandas) (2018.9)\n",
            "Requirement already satisfied: python-dateutil>=2.5.0 in /usr/local/lib/python3.6/dist-packages (from pandas) (2.5.3)\n",
            "Requirement already satisfied: numpy>=1.12.0 in /usr/local/lib/python3.6/dist-packages (from pandas) (1.16.4)\n",
            "Requirement already satisfied: six>=1.5 in /usr/local/lib/python3.6/dist-packages (from python-dateutil>=2.5.0->pandas) (1.12.0)\n"
          ],
          "name": "stdout"
        }
      ]
    },
    {
      "cell_type": "code",
      "metadata": {
        "id": "_1iMCgoqO54P",
        "colab_type": "code",
        "outputId": "38efcb90-f5e4-450e-e588-aca2d5ae7450",
        "colab": {
          "base_uri": "https://localhost:8080/",
          "height": 245
        }
      },
      "source": [
        "pip install edward  "
      ],
      "execution_count": 0,
      "outputs": [
        {
          "output_type": "stream",
          "text": [
            "Collecting edward\n",
            "\u001b[?25l  Downloading https://files.pythonhosted.org/packages/a3/59/5831fa77a01a7b16d53626966b06e89064b1696166d74e856ef3eefb3119/edward-1.3.5.tar.gz (63kB)\n",
            "\u001b[K     |████████████████████████████████| 71kB 2.8MB/s \n",
            "\u001b[?25hRequirement already satisfied: numpy>=1.7 in /usr/local/lib/python3.6/dist-packages (from edward) (1.16.4)\n",
            "Requirement already satisfied: six>=1.10.0 in /usr/local/lib/python3.6/dist-packages (from edward) (1.12.0)\n",
            "Building wheels for collected packages: edward\n",
            "  Building wheel for edward (setup.py) ... \u001b[?25l\u001b[?25hdone\n",
            "  Created wheel for edward: filename=edward-1.3.5-cp36-none-any.whl size=90389 sha256=b7424a33d19554f3cf3290f1b98d44a7af92adbac9aa233e8b795e941ff3b3ea\n",
            "  Stored in directory: /root/.cache/pip/wheels/ae/61/0c/1f36f3f0c629d1b7a24d042d2c37015a66c091729c95dd8425\n",
            "Successfully built edward\n",
            "Installing collected packages: edward\n",
            "Successfully installed edward-1.3.5\n"
          ],
          "name": "stdout"
        }
      ]
    },
    {
      "cell_type": "code",
      "metadata": {
        "id": "Qg8RkwyuO-_E",
        "colab_type": "code",
        "colab": {}
      },
      "source": [
        "\n",
        "from __future__ import absolute_import\n",
        "from __future__ import division\n",
        "from __future__ import print_function\n",
        "\n",
        "import edward as ed\n",
        "import matplotlib.pyplot as plt\n",
        "import numpy as np\n",
        "import tensorflow as tf \n",
        "import pandas as pd\n",
        "import sklearn.preprocessing as preprocessing\n",
        "import sklearn.linear_model as linear_model\n",
        "import sklearn.metrics as metrics\n",
        "from sklearn.model_selection import train_test_split\n",
        "from edward.models import Normal\n",
        "\n",
        "%matplotlib inline\n",
        "plt.style.use('ggplot')\n",
        "\n",
        " "
      ],
      "execution_count": 0,
      "outputs": []
    },
    {
      "cell_type": "code",
      "metadata": {
        "id": "LJzRaGMvQXtZ",
        "colab_type": "code",
        "outputId": "e55c0165-11f7-4630-eb2c-9bf028240107",
        "colab": {
          "base_uri": "https://localhost:8080/",
          "height": 34
        }
      },
      "source": [
        "adult = pd.read_csv('sample_data/adult.csv',sep= ',',names = [\"Age\", \"Workclass\", \"fnlwgt\", \"Education\", \"Education-Num\", \"Martial Status\",\n",
        "       \"Occupation\", \"Relationship\", \"Race\", \"Sex\", \"Capital Gain\", \"Capital Loss\",\n",
        "       \"Hours per week\", \"Country\", \"Target\"])\n",
        "\n",
        "adult.head()\n",
        "\n",
        "adult = adult[1:]\n",
        "adult.shape"
      ],
      "execution_count": 0,
      "outputs": [
        {
          "output_type": "execute_result",
          "data": {
            "text/plain": [
              "(48842, 15)"
            ]
          },
          "metadata": {
            "tags": []
          },
          "execution_count": 6
        }
      ]
    },
    {
      "cell_type": "code",
      "metadata": {
        "id": "-kckWZtFSjht",
        "colab_type": "code",
        "outputId": "ab8df727-b10e-43fd-fa8c-4776271ea90f",
        "colab": {
          "base_uri": "https://localhost:8080/",
          "height": 106
        }
      },
      "source": [
        "from pandas import DataFrame\n",
        "data = adult[[\"Age\", \"Workclass\", \"fnlwgt\", \"Education\", \"Education-Num\", \"Martial Status\",\n",
        "           \"Occupation\", \"Relationship\", \"Race\", \"Sex\", \"Capital Gain\", \"Capital Loss\",\n",
        "           \"Hours per week\", \"Country\", \"Target\"]]\n",
        "\n",
        "data2 = pd.get_dummies(data)\n",
        " \n",
        "data_x = data2.loc[:, :'Country_Yugoslavia'].as_matrix().astype(np.float32)\n",
        "data_y = data2.loc[:, 'Target_<=50K':].as_matrix().astype(np.float32)"
      ],
      "execution_count": 0,
      "outputs": [
        {
          "output_type": "stream",
          "text": [
            "/usr/local/lib/python3.6/dist-packages/ipykernel_launcher.py:8: FutureWarning: Method .as_matrix will be removed in a future version. Use .values instead.\n",
            "  \n",
            "/usr/local/lib/python3.6/dist-packages/ipykernel_launcher.py:9: FutureWarning: Method .as_matrix will be removed in a future version. Use .values instead.\n",
            "  if __name__ == '__main__':\n"
          ],
          "name": "stderr"
        }
      ]
    },
    {
      "cell_type": "code",
      "metadata": {
        "id": "NXZ31umMSlZG",
        "colab_type": "code",
        "colab": {}
      },
      "source": [
        "N = 30000\n",
        "train_x, test_x = data_x[:N], data_x[N:]\n",
        "train_y, test_y = data_y[:N], data_y[N:]\n",
        "\n",
        "in_size = train_x.shape[1]\n",
        "out_size = train_y.shape[1]\n",
        "\n",
        "\n",
        "# for bayesian neural network\n",
        "train_y2 = np.argmax(train_y, axis=1)\n",
        "test_y2 = np.argmax(test_y, axis=1)\n",
        "\n",
        "in_size = train_x.shape[1]\n",
        "out_size = train_y.shape[1]\n",
        "\n",
        "EPOCH_NUM = 50\n",
        "BATCH_SIZE = 100"
      ],
      "execution_count": 0,
      "outputs": []
    },
    {
      "cell_type": "code",
      "metadata": {
        "id": "sAKp7KlYSppg",
        "colab_type": "code",
        "outputId": "3206b3a0-91d2-4509-fb06-435dfb167ecf",
        "colab": {
          "base_uri": "https://localhost:8080/",
          "height": 211
        }
      },
      "source": [
        "import sys\n",
        "from tqdm import tqdm\n",
        "import tensorflow as tf\n",
        "\n",
        "x_ = tf.placeholder(tf.float32, shape=[None, in_size])\n",
        "y_ = tf.placeholder(tf.float32, shape=[None, out_size])\n",
        "\n",
        "w = tf.Variable(tf.truncated_normal([in_size, out_size], stddev=0.1), dtype=tf.float32)\n",
        "b = tf.Variable(tf.constant(0.1, shape=[out_size]), dtype=tf.float32)\n",
        "y_pre = tf.matmul(x_, w) + b\n",
        "\n",
        "cross_entropy = tf.reduce_mean(tf.nn.softmax_cross_entropy_with_logits(labels=y_, logits=y_pre))\n",
        "train_step = tf.train.AdamOptimizer().minimize(cross_entropy)\n",
        "correct_prediction = tf.equal(tf.argmax(y_pre, 1), tf.argmax(y_, 1))\n",
        "accuracy = tf.reduce_mean(tf.cast(correct_prediction, tf.float32))\n",
        "\n",
        "\n",
        "sess = tf.Session()\n",
        "sess.run(tf.global_variables_initializer())\n",
        "for epoch in tqdm(range(EPOCH_NUM), file=sys.stdout):\n",
        "    perm = np.random.permutation(N)\n",
        "    for i in range(0, N, BATCH_SIZE):\n",
        "        batch_x = train_x[perm[i:i+BATCH_SIZE]]\n",
        "        batch_y = train_y[perm[i:i+BATCH_SIZE]]\n",
        "        train_step.run(session=sess, feed_dict={x_: batch_x, y_: batch_y})\n",
        "    acc = accuracy.eval(session=sess, feed_dict={x_: train_x, y_: train_y})\n",
        "    test_acc = accuracy.eval(session=sess, feed_dict={x_: test_x, y_: test_y})\n",
        "    if (epoch+1) % 1 == 0:\n",
        "        tqdm.write('epoch:\\t{}\\taccuracy:\\t{}\\tvaridation accuracy:\\t{}'.format(epoch+1, acc, test_acc))"
      ],
      "execution_count": 0,
      "outputs": [
        {
          "output_type": "stream",
          "text": [
            "WARNING:tensorflow:From <ipython-input-14-0c6201aa4dd9>:12: softmax_cross_entropy_with_logits (from tensorflow.python.ops.nn_ops) is deprecated and will be removed in a future version.\n",
            "Instructions for updating:\n",
            "\n",
            "Future major versions of TensorFlow will allow gradients to flow\n",
            "into the labels input on backprop by default.\n",
            "\n",
            "See tf.nn.softmax_cross_entropy_with_logits_v2.\n",
            "\n",
            "epoch:\t1\taccuracy:\t0.7644000053405762\tvaridation accuracy:\t0.7640210390090942\n",
            "  2%|▏         | 1/50 [00:56<46:30, 56.94s/it]"
          ],
          "name": "stdout"
        }
      ]
    },
    {
      "cell_type": "code",
      "metadata": {
        "id": "ymHlpOjuSqPA",
        "colab_type": "code",
        "outputId": "f149aa02-5833-4772-ea2f-72b56cce7a18",
        "colab": {
          "base_uri": "https://localhost:8080/",
          "height": 312
        }
      },
      "source": [
        "import edward as ed\n",
        "import sys\n",
        "from tqdm import tqdm \n",
        "from edward.models import Normal, Categorical\n",
        "\n",
        "x_ = tf.placeholder(tf.float32, shape=(None, in_size))\n",
        "y_ = tf.placeholder(tf.int32, shape=(BATCH_SIZE))\n",
        "\n",
        "w = Normal(loc=tf.zeros([in_size, out_size]), scale=tf.ones([in_size, out_size]))\n",
        "b = Normal(loc=tf.zeros([out_size]), scale=tf.ones([out_size]))\n",
        "y_pre = Categorical(tf.matmul(x_, w) + b)\n",
        "\n",
        "qw = Normal(loc=tf.Variable(tf.random_normal([in_size, out_size])), scale=tf.Variable(tf.random_normal([in_size, out_size])))\n",
        "qb = Normal(loc=tf.Variable(tf.random_normal([out_size])), scale=tf.Variable(tf.random_normal([out_size])))\n",
        "\n",
        "y = Categorical(tf.matmul(x_, qw) + qb)\n",
        "\n",
        "inference = ed.KLqp({w: qw, b: qb}, data={y_pre: y_})\n",
        "inference.initialize()\n",
        "\n",
        "sess = tf.Session()\n",
        "sess.run(tf.global_variables_initializer())\n",
        "\n",
        "with sess:\n",
        "    samples_num = 100\n",
        "    for epoch in tqdm(range(EPOCH_NUM), file=sys.stdout):\n",
        "        perm = np.random.permutation(N)\n",
        "        for i in range(0, N, BATCH_SIZE):\n",
        "            batch_x = train_x[perm[i:i+BATCH_SIZE]]\n",
        "            batch_y = train_y2[perm[i:i+BATCH_SIZE]]\n",
        "            inference.update(feed_dict={x_: batch_x, y_: batch_y})\n",
        "        y_samples = y.sample(samples_num).eval(feed_dict={x_: train_x})\n",
        "        acc = (np.round(y_samples.sum(axis=0) / samples_num) == train_y2).mean()\n",
        "        y_samples = y.sample(samples_num).eval(feed_dict={x_: test_x})\n",
        "        test_acc = (np.round(y_samples.sum(axis=0) / samples_num) == test_y2).mean()\n",
        "        if (epoch+1) % 1 == 0:\n",
        "            tqdm.write('epoch:\\t{}\\taccuracy:\\t{}\\tvaridation accuracy:\\t{}'.format(epoch+1, acc, test_acc))"
      ],
      "execution_count": 0,
      "outputs": [
        {
          "output_type": "stream",
          "text": [
            "epoch:\t1\taccuracy:\t0.6549\tvaridation accuracy:\t0.7162190850228214\n",
            "epoch:\t2\taccuracy:\t0.7826\tvaridation accuracy:\t0.7130877826133107\n",
            "epoch:\t3\taccuracy:\t0.7766666666666666\tvaridation accuracy:\t0.785054665109861\n",
            "epoch:\t4\taccuracy:\t0.7978333333333333\tvaridation accuracy:\t0.774599299437427\n",
            "epoch:\t5\taccuracy:\t0.7778\tvaridation accuracy:\t0.7747054452818172\n",
            "epoch:\t6\taccuracy:\t0.7381666666666666\tvaridation accuracy:\t0.761861798110604\n",
            "epoch:\t7\taccuracy:\t0.7544\tvaridation accuracy:\t0.8057000318437533\n",
            "epoch:\t8\taccuracy:\t0.7879666666666667\tvaridation accuracy:\t0.7695573718288929\n",
            "epoch:\t9\taccuracy:\t0.7918333333333333\tvaridation accuracy:\t0.7886105508969324\n",
            "epoch:\t10\taccuracy:\t0.7542666666666666\tvaridation accuracy:\t0.7753423203481584\n",
            "epoch:\t11\taccuracy:\t0.7648333333333334\tvaridation accuracy:\t0.7649400275979196\n",
            "epoch:\t12\taccuracy:\t0.7543333333333333\tvaridation accuracy:\t0.796624562148392\n",
            "epoch:\t13\taccuracy:\t0.7890333333333334\tvaridation accuracy:\t0.7041715316845345\n",
            "epoch:\t14\taccuracy:\t0.7181\tvaridation accuracy:\t0.7863284152425433\n",
            "epoch:\t15\taccuracy:\t0.7502666666666666\tvaridation accuracy:\t0.768495913384991\n",
            "epoch:\t16\taccuracy:\t0.7899666666666667\tvaridation accuracy:\t0.7098503343594098\n",
            " 32%|███▏      | 16/50 [17:35<37:18, 65.85s/it]"
          ],
          "name": "stdout"
        }
      ]
    }
  ]
}